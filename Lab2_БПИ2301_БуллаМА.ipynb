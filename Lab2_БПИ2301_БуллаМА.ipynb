{
 "cells": [
  {
   "cell_type": "markdown",
   "id": "fifteen-sailing",
   "metadata": {
    "id": "fifteen-sailing"
   },
   "source": [
    "# Лабораторная работа №2\n",
    "## Выполнил студент группы Булла Максим Анатольевич БПИ2301"
   ]
  },
  {
   "cell_type": "markdown",
   "id": "arctic-stocks",
   "metadata": {
    "id": "arctic-stocks"
   },
   "source": [
    "Реализовать следующие структуры данных:\n",
    "  \n",
    "● <b> Стек (stack): </b>  \n",
    "Операции для стека:\n",
    "<i> инициализация, проверка на пустоту, добавление нового элемента в начало, извлечение элемента из начала;  </i>  \n",
    "  \n",
    "● <b> Дек (двусторонняя очередь, deque):  </b>  \n",
    "Операции для дека:\n",
    "<i> инициализация, проверка на пустоту, добавление нового элемента в начало, добавление нового элемента в конец, извлечение элемента из начала, извлечение элемента из конца. </i>  \n",
    "  \n",
    "<i> Разработать программу обработки данных, содержащихся в заранее подготовленном txt-файле, в соответствии с заданиями, применив указанную в задании структуру данных. Результат работы программы вывести на экран и сохранить в отдельном txt-файле. </i>"
   ]
  },
  {
   "cell_type": "code",
   "execution_count": 16,
   "id": "b94e3e35-6b08-460d-868d-bd34d53c7b74",
   "metadata": {},
   "outputs": [],
   "source": [
    "class Deque:\n",
    "    class Node:\n",
    "        def __init__(self, value, _prev=None, _next=None):\n",
    "            self.value = value\n",
    "            self._prev = _prev\n",
    "            self._next = _next\n",
    "    \n",
    "    def __init__(self, arr=None):\n",
    "        self.front = None\n",
    "        self.back = None\n",
    "        self.size = 0\n",
    "\n",
    "        if arr is not None:\n",
    "            for val in arr:\n",
    "                self.push(val)\n",
    "\n",
    "    def is_empty(self):\n",
    "        return self.front is None\n",
    "\n",
    "    def __str__(self):\n",
    "        if self.is_empty(): return \"[]\"\n",
    "\n",
    "        val = \"[\"\n",
    "        node = self.back\n",
    "\n",
    "        while True:\n",
    "            val += str(node.value) + \" \"\n",
    "            if node._next is None: break\n",
    "            node = node._next\n",
    "            \n",
    "        return val.strip() + \"]\"\n",
    "    \n",
    "    def push(self, val):\n",
    "        if self.is_empty():\n",
    "            node = self.Node(val, None, None)\n",
    "            self.front = node\n",
    "            self.back = node\n",
    "        else:\n",
    "            node = self.Node(val, self.front, None)\n",
    "            self.front._next = node\n",
    "            self.front = node\n",
    "        self.size += 1\n",
    "        \n",
    "    def push_back(self, val):\n",
    "        if self.is_empty():\n",
    "            self.push(val)\n",
    "        else:\n",
    "            node = self.Node(val, None, self.back)\n",
    "            self.back._prev = node\n",
    "            self.back = node\n",
    "            self.size += 1\n",
    "\n",
    "    def pop(self):\n",
    "        if self.is_empty(): return None\n",
    "        \n",
    "        node = self.front\n",
    "        if self.size == 1:\n",
    "            self.front = None\n",
    "            self.back = None\n",
    "        else:\n",
    "            self.front = self.front._prev\n",
    "            self.front._next = None\n",
    "        self.size -= 1\n",
    "        return node.value\n",
    "\n",
    "    def pop_back(self):\n",
    "        if self.is_empty(): return None\n",
    "        \n",
    "        node = self.back\n",
    "        if self.size == 1:\n",
    "            self.back = None\n",
    "            self.front = None\n",
    "        else:\n",
    "            self.back = self.back._next\n",
    "            self.back._prev = None\n",
    "        self.size -= 1\n",
    "        return node.value\n",
    "\n",
    "    def peek(self):\n",
    "        if self.is_empty(): return None\n",
    "        return self.front.value\n",
    "    \n",
    "    def peek_back(self):\n",
    "        if self.is_empty(): return None\n",
    "        return self.back.value"
   ]
  },
  {
   "cell_type": "code",
   "execution_count": 76,
   "id": "6d0daf0e-e472-4fb6-aaa1-79a84cca1f12",
   "metadata": {},
   "outputs": [],
   "source": [
    "class Stack:    \n",
    "    def __init__(self, arr=None):\n",
    "        if arr is None: self.arr = []\n",
    "        else: self.arr = arr\n",
    "    \n",
    "    def is_empty(self):\n",
    "        return len(self.arr) == 0\n",
    "\n",
    "    def push(self, val):\n",
    "        self.arr.append(val)\n",
    "\n",
    "    def pop(self):\n",
    "        if self.is_empty(): return None\n",
    "        return self.arr.pop()\n",
    "\n",
    "    def peek(self):\n",
    "        if self.is_empty(): return None\n",
    "        return self.arr[len(self.arr) - 1]\n",
    "\n",
    "    def get_size(self):\n",
    "        return len(self.arr)\n",
    "    \n",
    "    def __str__(self):\n",
    "        return str(self.arr)"
   ]
  },
  {
   "cell_type": "code",
   "execution_count": 113,
   "id": "90b43ff7-7e67-4b60-acaf-7369d7249bae",
   "metadata": {},
   "outputs": [],
   "source": [
    "class Printer:\n",
    "    def __init__(self, location):\n",
    "        self.page = ''\n",
    "        self.location = location\n",
    "\n",
    "    def send(self, text, newline=False):\n",
    "        self.page += str(text) + ('\\n' if newline else '')\n",
    "    \n",
    "    def next_page(self, location):\n",
    "        self.location = location\n",
    "        self.page = ''\n",
    "\n",
    "    def print_page(self):\n",
    "        if self.location ==  '': return None\n",
    "        with open(self.location, 'w') as f:\n",
    "            f.write(self.page)\n",
    "    \n",
    "    def preview_page(self):\n",
    "        print(self.page)\n",
    "\n",
    "printer = Printer('')"
   ]
  },
  {
   "cell_type": "markdown",
   "id": "5d7edb08",
   "metadata": {
    "id": "5d7edb08",
    "scrolled": true
   },
   "source": [
    "### Задание №1\n",
    "Отсортировать строки файла, содержащие названия книг, в алфавитном порядке с использованием двух деков."
   ]
  },
  {
   "cell_type": "code",
   "execution_count": 114,
   "id": "17702ade",
   "metadata": {
    "id": "17702ade"
   },
   "outputs": [
    {
     "name": "stdout",
     "output_type": "stream",
     "text": [
      "1984, Джордж Оруэлл, 1949\n",
      "\n",
      "Автобиография Малкольма Икс, Алекс Хэйли и Малкольм Икс, 1965\n",
      "\n",
      "Американская трагедия, Теодор Драйзер, 1925\n",
      "\n",
      "Анна Каренина, Лев Толстой, 1877\n",
      "\n",
      "Антуанетта (Широкое Саргассово море), Джин Рис, 1966\n",
      "\n",
      "Безмолвная весна, Рэйчел Карсон, 1962\n",
      "\n",
      "Библия.\n",
      "\n",
      "Божественная комедия, Данте Алигьери, 1321\n",
      "\n",
      "Бойня номер пять, Курт Воннегут, 1969\n",
      "\n",
      "Век невинности, Эдит Уортон, 1920\n",
      "\n",
      "Великий Гэтсби, Френсис Скотт Фицджеральд, 1925\n",
      "\n",
      "Ветер в ивах, Кеннет Грэм, 1908\n",
      "\n",
      "Винни-Пух, Алан Александр Милн, 1926\n",
      "\n",
      "Властелин колец, Джон Рональд Руэл Толкин, 1954\n",
      "\n",
      "Возлюбленная, Тони Моррисон, 1987\n",
      "\n",
      "Война и мир, Лев Толстой, 1869\n",
      "\n",
      "Воспитание Генри Адамса, Генри Адамс, 1918\n",
      "\n",
      "В поисках утраченного времени, Марсель Пруст, 1913\n",
      "\n",
      "Вся королевская рать, Роберт Пенн Уоррен, 1946\n",
      "\n",
      "Вторая мировая война, Уинстон Черчилль, 1948\n",
      "Гамлет, Уильям Шекспир, 1603\n",
      "\n",
      "Глубокий сон, Раймонд Чандлер, 1939\n",
      "\n",
      "Гордость и предубеждение, Джейн Остен, 1813\n",
      "\n",
      "Государь, Николо Макиавелли, 1532\n",
      "\n",
      "Гроздья гнева, Джон Стейнбек, 1939\n",
      "\n",
      "Демократия в Америке, Алексис де Токвиль, 1835\n",
      "\n",
      "День саранчи, Натанаэл Уэст, 1939\n",
      "\n",
      "Дети полуночи, Салман Рушди, 1981\n",
      "\n",
      "Души чёрного народа, Уильям Эдуард Бёркхардт Дюбуа, 1903\n",
      "\n",
      "Заводной апельсин, Энтони Берджесс, 1962\n",
      "\n",
      "Знаменитые викторианцы, Литтон Стрэчи, 1918\n",
      "\n",
      "Золотая тетрадь, Дорис Лессинг, 1962\n",
      "\n",
      "Иди, вещай с горы, Джеймс Болдуин, 1953\n",
      "\n",
      "И восходит солнце, Эрнест Хемингуэй, 1926\n",
      "\n",
      "Илиада и Одиссея, Гомер, VIII век до н.э.\n",
      "\n",
      "И пришло разрушение (в другом варианте русского перевода «Распад»), Чинуа Ачебе, 1958\n",
      "\n",
      "Исповедь, Святой Августин, 4-й век\n",
      "\n",
      "История, Геродот, 440 до н.э.\n",
      "\n",
      "История Пелопонесской войны, Фукидид, 431 до н.э.\n",
      "\n",
      "Ким, Редьярд Киплинг, 1901\n",
      "\n",
      "Капитал, Карл Маркс, 1867\n",
      "\n",
      "Кентерберийские рассказы, Джеффри Чосер, XV век\n",
      "\n",
      "Когда я умирала, Уильям Фолкнер, 1930\n",
      "\n",
      "Король Лир, Уильям Шекспир, 1608\n",
      "\n",
      "Кролик, беги, Джон Апдайк, 1960\n",
      "\n",
      "Лев, Колдунья и Волшебный шкаф, Клайв Стейплз Льюис, 1950\n",
      "\n",
      "Левиафан, Томас Гоббс, 1651\n",
      "\n",
      "Листья травы, Уолт Уитмен, 1855\n",
      "\n",
      "Лолита, Владимир Набоков 1955\n",
      "\n",
      "Лорд Джим, Джозеф Конрад, 1900\n",
      "\n",
      "Мадам Бовари, Гюстав Флобер, 1857\n",
      "\n",
      "Мальтийский сокол, Дешил Хэммет, 1930\n",
      "\n",
      "Миддлмарч, Джордж Элиот, 1874\n",
      "\n",
      "Миссис Делоуэй, Вирджиния Вульф, 1925\n",
      "\n",
      "Многообразие религиозного опыта, Уильям Джемс, 1902\n",
      "\n",
      "На дороге, Джек Керуак, 1957\n",
      "\n",
      "Над пропастью во ржи, Джером Сэлинджер, 1951\n",
      "\n",
      "На маяк, Вирджиния Вульф, 1927\n",
      "\n",
      "Ночь (название на идише \"И мир молчал\"), Эли Визель, 1958\n",
      "\n",
      "Общая теория занятости, процента и денег, Джон Мейнард Кейнс, 1936\n",
      "\n",
      "Общественный договор, Жан-Жак Руссо, 1762\n",
      "\n",
      "О дивный новый мир, Олдос Хаксли, 1932\n",
      "\n",
      "Отелло, Уильям Шекспир, 1622\n",
      "\n",
      "Паутина Шарлотты, Э.Б. Уайт, 1952\n",
      "\n",
      "Песнь Соломона, Тони Моррисон, 1977\n",
      "\n",
      "Повелитель мух, Уильям Голдинг, 1954\n",
      "\n",
      "Поездка в Индию, Э.М.Форстер, 1924\n",
      "\n",
      "По ком звонит колокол, Эрнест Хемингуэй, 1940\n",
      "\n",
      "Потерянный рай, Джон Милтон, 1667\n",
      "\n",
      "Пригоршня праха, Ивлин Во, 1934\n",
      "\n",
      "Приключения Гекльберри Финна, Марк Твен, 1885\n",
      "\n",
      "Происхождение видов, Чарльз Дарвин, 1859\n",
      "\n",
      "Пролетая над гнездом кукушки, Кен Кизи, 1962\n",
      "\n",
      "Простимся со всем этим, Роберт Грейвс, 1929\n",
      "\n",
      "Путешествия Гулливера, Джонатан Свифт, 1726\n",
      "\n",
      "Свет в августе, Уильям Фолкнер, 1932\n",
      "\n",
      "Сердце тьмы, Джозеф Конрад, 1902\n",
      "\n",
      "Сердце – одинокий охотник, Карсон Маккаллерс, 1940\n",
      "\n",
      "Скотный двор, Джордж Оруэлл, 1945\n",
      "\n",
      "Случай Портного, Филипп Рот, 1969\n",
      "\n",
      "Смерть приходит за архиепископом, Уилла Кэсер, 1927\n",
      "\n",
      "Сонеты, Уильям Шекспир, 1609\n",
      "\n",
      "Состоятельное общество, Джон Кеннет Гэлбрейт, 1958\n",
      "\n",
      "Сто лет одиночества, Габриель Гарсия Маркес, 1967\n",
      "\n",
      "Сын Америки, Ричард Райт, 1940\n",
      "\n",
      "Сыновья и любовники, Д. Г. Лоуренс, 1913\n",
      "\n",
      "Темные начала, Филипп Пулман, 1995\n",
      "\n",
      "Толкование сновидений, Зигмунд Фрейд, 1900\n",
      "\n",
      "Тропик Рака, Генри Миллер, 1934\n",
      "\n",
      "Убить пересмешника, Харпер Ли, 1960\n",
      "\n",
      "Улисс, Джеймс Джойс, 1922\n",
      "\n",
      "Уловка-22, Джозеф Хеллер, 1961\n",
      "\n",
      "Унесенные ветром, Маргарет Митчелл, 1936\n",
      "\n",
      "Франкенштейн, Мэри Шелли, 1818\n",
      "\n",
      "Хладнокровное убийство, Трумен Капоте, 1965\n",
      "\n",
      "Цвет пурпурный, Элис Уокер, 1982\n",
      "\n",
      "Цитатник Мао, Мао Цзэдун, 1964\n",
      "\n",
      "Человек-невидимка, Ральф Эллисон, 1952\n",
      "\n",
      "Шум и ярость, Уильям Фолкнер, 1929\n",
      "\n",
      "Я, Клавдий, Роберт Грэйвс, 1934\n",
      "\n",
      "\n"
     ]
    }
   ],
   "source": [
    "printer.next_page('stackdeque_1_result.txt')\n",
    "\n",
    "ordered = Deque()\n",
    "\n",
    "with open('stackdeque_1.txt') as f:\n",
    "    for line in f: ordered.push(line)\n",
    "\n",
    "count = ordered.size\n",
    "\n",
    "def left_lower_alphabet(a, b):\n",
    "    a = a.lower().replace('.',',').split(',')[0].replace(' ', '')\n",
    "    b = b.lower().replace('.',',').split(',')[0].replace(' ', '')\n",
    "\n",
    "    index = 0\n",
    "    min_len = len(a) if len(a) < len(b) else len(b)\n",
    "    min_len -= 1\n",
    "    \n",
    "    while index < min_len - 1 and ord(a[index]) == ord(b[index]):\n",
    "        index += 1\n",
    "\n",
    "    if index == min_len - 1:\n",
    "        return len(a) > len(b)\n",
    "    return ord(a[index]) > ord(b[index])\n",
    "\n",
    "def find_max(start):\n",
    "    global ordered, books, maxcollector\n",
    "\n",
    "    for j in range(start, ordered.size):\n",
    "        to_compare = ordered.pop()\n",
    "\n",
    "        if left_lower_alphabet(to_compare, maxcollector.peek()):\n",
    "            maxcollector.push_back(to_compare)\n",
    "        else: maxcollector.push(to_compare)\n",
    "\n",
    "for i in range(count):\n",
    "    maxcollector = Deque([ordered.pop()])\n",
    "    find_max(i)\n",
    "    \n",
    "    for j in range(maxcollector.size):\n",
    "        ordered.push(maxcollector.pop())\n",
    "\n",
    "while not ordered.is_empty():\n",
    "    printer.send(ordered.pop_back(), newline=True)\n",
    "\n",
    "printer.preview_page()\n",
    "printer.print_page()"
   ]
  },
  {
   "cell_type": "markdown",
   "id": "49fbd2a0",
   "metadata": {
    "id": "49fbd2a0"
   },
   "source": [
    "### Задание №2\n",
    "Дек содержит последовательность символов для шифровки сообщений. Дан текстовый файл, содержащий зашифрованное сообщение. Пользуясь деком, расшифровать текст.\n",
    "Известно, что при шифровке каждый символ сообщения заменялся следующим за ним в деке по часовой стрелке через один."
   ]
  },
  {
   "cell_type": "code",
   "execution_count": 115,
   "id": "81cab7a8",
   "metadata": {
    "id": "81cab7a8"
   },
   "outputs": [
    {
     "name": "stdout",
     "output_type": "stream",
     "text": [
      "is hot dog really a sandwich\n"
     ]
    }
   ],
   "source": [
    "printer.next_page('stackdeque_2_result.txt')\n",
    "\n",
    "alphabet = Deque([i for i in 'abcdefghijklmnopqrstuvwxyz'])\n",
    "\n",
    "def get_sec_prev():\n",
    "    global alphabet\n",
    "    alphabet.push_back(alphabet.pop())\n",
    "    alphabet.push_back(alphabet.pop())\n",
    "    return alphabet.peek()\n",
    "    \n",
    "def actual_letter(base):\n",
    "    global alphabet\n",
    "    counter = 0\n",
    "    root = alphabet.front\n",
    "    \n",
    "    while True:\n",
    "        if alphabet.peek() == base:\n",
    "            break\n",
    "        alphabet.push_back(alphabet.pop())\n",
    "        \n",
    "        counter += 1\n",
    "        if counter == alphabet.size: return base\n",
    "\n",
    "    return get_sec_prev()\n",
    "\n",
    "res = \"\"\n",
    "\n",
    "with open('stackdeque_2.txt') as f:\n",
    "    for i in f.read():\n",
    "        res += actual_letter(i)\n",
    "\n",
    "printer.send(res)\n",
    "printer.preview_page()\n",
    "printer.print_page()"
   ]
  },
  {
   "cell_type": "markdown",
   "id": "c0894f47",
   "metadata": {
    "id": "c0894f47"
   },
   "source": [
    "### Задание №3\n",
    "Даны три стержня и n дисков различного размера. Диски можно надевать на стержни, образуя из них башни. Перенести n дисков со стержня А на стержень С, сохранив их первоначальный порядок. При переносе дисков необходимо соблюдать следующие правила:\n",
    "- на каждом шаге со стержня на стержень переносить только один диск;\n",
    "- диск нельзя помещать на диск меньшего размера;\n",
    "- для промежуточного хранения можно использовать стержень В.\n",
    "Реализовать алгоритм, используя три стека вместо стержней А, В, С. Информация о дисках хранится в исходном файле."
   ]
  },
  {
   "cell_type": "code",
   "execution_count": 117,
   "id": "9e91a9d4",
   "metadata": {
    "id": "9e91a9d4"
   },
   "outputs": [
    {
     "name": "stdout",
     "output_type": "stream",
     "text": [
      "[10, 9, 8, 7, 6, 5, 4, 3, 2, 1]\n",
      "[][][]\n",
      "[][10, 9, 8, 7, 6, 5, 4, 3, 2, 1]\n"
     ]
    }
   ],
   "source": [
    "printer.next_page('stackdeque_3_result.txt')\n",
    "\n",
    "a, b, c = Stack(), Stack(), Stack()\n",
    "\n",
    "with open('stackdeque_3.txt') as f:\n",
    "    [a.push(int(i)) for i in f.read().split()]\n",
    "\n",
    "printer.send(a, newline=True)\n",
    "printer.send(b, newline=False)\n",
    "printer.send(c, newline=False)\n",
    "\n",
    "while not a.is_empty():\n",
    "    for i in range(a.get_size() - 1):\n",
    "        b.push(a.pop())\n",
    "    c.push(a.pop())\n",
    "    \n",
    "    for i in range(b.get_size()):\n",
    "        a.push(b.pop())\n",
    "\n",
    "printer.send(a, newline=True)\n",
    "printer.send(b, newline=False)\n",
    "printer.send(c, newline=False)\n",
    "\n",
    "printer.preview_page()\n",
    "printer.print_page()"
   ]
  },
  {
   "cell_type": "markdown",
   "id": "e5b0be17",
   "metadata": {
    "id": "e5b0be17"
   },
   "source": [
    "### Задание №4\n",
    "Дан текстовый файл с программой на алгоритмическом языке. За один просмотр файла проверить баланс круглых скобок в тексте, используя стек."
   ]
  },
  {
   "cell_type": "code",
   "execution_count": 118,
   "id": "5b1df60a",
   "metadata": {
    "id": "5b1df60a"
   },
   "outputs": [
    {
     "name": "stdout",
     "output_type": "stream",
     "text": [
      "True\n"
     ]
    }
   ],
   "source": [
    "printer.next_page('stackdeque_4_result.txt')\n",
    "source_code = \"\"\n",
    "\n",
    "with open('stackdeque_4.txt') as f:\n",
    "    source_code = f.read()\n",
    "\n",
    "brackets = Stack()\n",
    "missing = False\n",
    "\n",
    "for i in source_code:\n",
    "    if i == '(':\n",
    "        brackets.push(1)\n",
    "    elif i == ')':\n",
    "        if brackets.pop() is None: missing = True\n",
    "\n",
    "printer.send(brackets.is_empty() and not missing)\n",
    "printer.preview_page()\n",
    "printer.print_page()"
   ]
  },
  {
   "cell_type": "markdown",
   "id": "c44cdd6b",
   "metadata": {
    "id": "c44cdd6b"
   },
   "source": [
    "### Задание №5\n",
    "Дан текстовый файл с программой на алгоритмическом языке. За один просмотр файла проверить баланс квадратных скобок в тексте, используя дек."
   ]
  },
  {
   "cell_type": "code",
   "execution_count": 119,
   "id": "36b8f400",
   "metadata": {
    "id": "36b8f400"
   },
   "outputs": [
    {
     "name": "stdout",
     "output_type": "stream",
     "text": [
      "True\n"
     ]
    }
   ],
   "source": [
    "printer.next_page('stackdeque_5_result.txt')\n",
    "\n",
    "source_code = ''\n",
    "brackets = Deque()\n",
    "\n",
    "with open('stackdeque_5.txt') as f:\n",
    "    source_code = f.read()\n",
    "\n",
    "for i in source_code:\n",
    "    if i == '[': brackets.push_back(i)\n",
    "    elif i == ']': brackets.push(i)\n",
    "\n",
    "result = True\n",
    "\n",
    "while True:\n",
    "    bracket = brackets.peek_back()\n",
    "    if bracket is None: break\n",
    "    if bracket == ']': \n",
    "        result = False\n",
    "        break\n",
    "    brackets.pop_back()\n",
    "    check = brackets.pop()\n",
    "    if check != ']':\n",
    "        result = False\n",
    "        break\n",
    "\n",
    "printer.send(result)\n",
    "printer.preview_page()\n",
    "printer.print_page()"
   ]
  },
  {
   "cell_type": "markdown",
   "id": "59d13dc7",
   "metadata": {
    "id": "59d13dc7"
   },
   "source": [
    "### Задание №6\n",
    "Дан файл из символов. Используя стек, за один просмотр файла напечатать сначала все цифры, затем все буквы, и, наконец, все остальные символы, сохраняя исходный порядок в каждой группе символов."
   ]
  },
  {
   "cell_type": "code",
   "execution_count": 120,
   "id": "297e36c2",
   "metadata": {
    "id": "297e36c2"
   },
   "outputs": [
    {
     "name": "stdout",
     "output_type": "stream",
     "text": [
      "6 4 5 3 7 4 7 3 6 8 4 2 9 5 8 2 8 6 9 3 4 9 8 5 7 3 \n",
      "Z G j P C E q a V T n b s S Y x v X M J B Q F d U D z e R u p r H v L N g j y P G U f s E n J q u z W F M e h c w a A G U j R y c Q Z s X v d L q w Y C W N x b H D e P u K J f u Q D N x M B e Z H R w n K h b P T s A z r d p t v G F W q j u c H Z R Q y N a w C U M E r g k t A f v b \n",
      "( ] [ } ? ~ ` < % { + $ ; \" # \n",
      " - ; { # $ > % / ( ~ @ ` , _ ) ' . \n",
      " ! : & ( ; ~ ] , _ / { \" + $ % @ ` \n",
      " $ ! ' [ _ : < # ^ \" ` ) / ~ . & * \n",
      " ) % & * ~ { [ < $ ( ] ; ! = . # / \n"
     ]
    }
   ],
   "source": [
    "printer.next_page('stackdeque_6_result.txt')\n",
    "\n",
    "letters = Stack()\n",
    "buffer = Stack()\n",
    "text = ''\n",
    "\n",
    "with open('stackdeque_6.txt') as f:\n",
    "    text = f.read()\n",
    "\n",
    "for i in text:\n",
    "    if i in '0123456789':\n",
    "        printer.send(i + ' ')\n",
    "    elif i.lower() in 'abcedfghijklmnopqrstuvwxyz':\n",
    "        letters.push(i)\n",
    "    else:\n",
    "        buffer.push(i)\n",
    "\n",
    "printer.send('\\n')\n",
    "\n",
    "while not letters.is_empty():\n",
    "    buffer.push(letters.pop())\n",
    "\n",
    "while True:\n",
    "    i = buffer.peek()\n",
    "    if i.lower() not in 'abcdefghijklmnopqrstuvwxyz': break\n",
    "    printer.send(buffer.pop() + ' ')\n",
    "\n",
    "printer.send('\\n')\n",
    "\n",
    "while not buffer.is_empty():\n",
    "    letters.push(buffer.pop())\n",
    "\n",
    "while not letters.is_empty():\n",
    "    printer.send(letters.pop() + ' ')\n",
    "\n",
    "printer.preview_page()\n",
    "printer.print_page()"
   ]
  },
  {
   "cell_type": "markdown",
   "id": "973f68bd",
   "metadata": {
    "id": "973f68bd"
   },
   "source": [
    "### Задание №7\n",
    "Дан файл из целых чисел. Используя дек, за один просмотр файла напечатать сначала все отрицательные числа, затем все положительные числа, сохраняя исходный порядок в каждой группе."
   ]
  },
  {
   "cell_type": "code",
   "execution_count": 123,
   "id": "c56fad66",
   "metadata": {
    "id": "c56fad66"
   },
   "outputs": [
    {
     "name": "stdout",
     "output_type": "stream",
     "text": [
      "-76 -20 -21 -35 -8 -96 -50 -59 -95 -24 -59 -27 -92 -78 -68 -14 -33 -26 -37 -82 -70 -37 -89 -60 \n",
      "37 28 12 83 33 90 74 29 23 42 60 62 86 42 28 20 27 7 1 93 83 1 96 31 53 18 \n"
     ]
    }
   ],
   "source": [
    "printer.next_page('stackdeque_7_result.txt')\n",
    "\n",
    "numbers = []\n",
    "\n",
    "with open('stackdeque_7.txt') as f:\n",
    "    numbers = [int(i) for i in f.read().split()]\n",
    "\n",
    "ordsigned = Deque()\n",
    "\n",
    "neg_count = 0\n",
    "\n",
    "for num in numbers:\n",
    "    if num > 0: ordsigned.push(num)\n",
    "    else: \n",
    "        neg_count += 1\n",
    "        ordsigned.push_back(num)\n",
    "\n",
    "while True:\n",
    "    if ordsigned.peek() < 0: break\n",
    "    ordsigned.push_back(ordsigned.pop())\n",
    "\n",
    "for i in range(neg_count):\n",
    "    printer.send(str(ordsigned.pop()) + ' ')\n",
    "\n",
    "printer.send('\\n')\n",
    "\n",
    "while not ordsigned.is_empty(): printer.send(str(ordsigned.pop_back()) + ' ')\n",
    "\n",
    "printer.preview_page()\n",
    "printer.print_page()"
   ]
  },
  {
   "cell_type": "markdown",
   "id": "b9228191",
   "metadata": {
    "id": "b9228191"
   },
   "source": [
    "### Задание №8\n",
    "Дан текстовый файл. Используя стек, сформировать новый текстовый файл, содержащий строки исходного файла, записанные в обратном порядке: первая строка становится последней, вторая – предпоследней и т.д."
   ]
  },
  {
   "cell_type": "code",
   "execution_count": 126,
   "id": "981fbdfe",
   "metadata": {
    "id": "981fbdfe"
   },
   "outputs": [
    {
     "name": "stdout",
     "output_type": "stream",
     "text": [
      "    clean. Cool completely.\n",
      " 3. Bake 30 to 35 minutes or until a toothpick inserted in the center comes out\n",
      " \n",
      "    boiling water (batter will be thin). Pour batter into prepared pans.\n",
      "    and salt.  Add eggs, milk, oil and vanilla. Mix until smooth.  Stir in\n",
      " 2. In a large bowl, combine the sugar, flour, cocoa, baking powder, baking soda\n",
      " \n",
      "    pans.\n",
      " 1. Preheat oven to 350 degrees F. Grease and flour two 9-inch round baking\n",
      "Directions:\n",
      "\n",
      " - 1 cup boiling water\n",
      " - 2 teaspoons vanilla extract\n",
      " - 1/2 cup vegetable oil\n",
      " - 1 cup milk\n",
      " - 2 eggs\n",
      " - 1 teaspoon salt\n",
      " - 1 1/2 teaspoons baking soda\n",
      " - 1 1/2 teaspoons baking powder\n",
      " - 3/4 cup cocoa\n",
      " - 1 3/4 cups all-purpose flour\n",
      " - 2 cups sugar\n",
      "Ingredients:\n",
      "\n"
     ]
    }
   ],
   "source": [
    "printer.next_page('stackdeque_8_result.txt')\n",
    "\n",
    "invertor = Stack()\n",
    "\n",
    "with open('stackdeque_8.txt') as f:\n",
    "    for line in f: invertor.push(line)\n",
    "\n",
    "while not invertor.is_empty():\n",
    "    printer.send(invertor.pop())\n",
    "\n",
    "printer.preview_page()\n",
    "printer.print_page()"
   ]
  },
  {
   "cell_type": "markdown",
   "id": "rental-jerusalem",
   "metadata": {
    "id": "rental-jerusalem"
   },
   "source": [
    "### Вывод\n"
   ]
  },
  {
   "cell_type": "markdown",
   "id": "0c2b8899",
   "metadata": {
    "id": "0c2b8899"
   },
   "source": [
    "    Стек и дек представляют из себя структуры данных, содержащие с одной стороны некоторую информацию, с другой стороны - определённую форму порядка, что позволяет использовать эти структуры данных для организации информации \"по стопкам\".\n",
    "\n",
    "    Выполение данной работы позволило увидеть необычные способы использования простой на первый взгляд структуры и расширить понимание подхода к работе с композициями объектов."
   ]
  }
 ],
 "metadata": {
  "colab": {
   "provenance": [
    {
     "file_id": "1SJnopeql2j1MhzcaJ8o68KaPzPnynIeK",
     "timestamp": 1676536264821
    }
   ]
  },
  "kernelspec": {
   "display_name": "Python 3 (ipykernel)",
   "language": "python",
   "name": "python3"
  },
  "language_info": {
   "codemirror_mode": {
    "name": "ipython",
    "version": 3
   },
   "file_extension": ".py",
   "mimetype": "text/x-python",
   "name": "python",
   "nbconvert_exporter": "python",
   "pygments_lexer": "ipython3",
   "version": "3.12.8"
  }
 },
 "nbformat": 4,
 "nbformat_minor": 5
}
